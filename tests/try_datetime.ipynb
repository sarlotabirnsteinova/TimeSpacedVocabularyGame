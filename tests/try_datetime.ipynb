{
 "cells": [
  {
   "cell_type": "code",
   "execution_count": 1,
   "id": "9c67b3e1-e97e-4eaa-95f4-153293359774",
   "metadata": {},
   "outputs": [],
   "source": [
    "import datetime"
   ]
  },
  {
   "cell_type": "code",
   "execution_count": 2,
   "id": "98ae7d34-1ede-46e9-a7f9-336175765607",
   "metadata": {},
   "outputs": [
    {
     "name": "stdout",
     "output_type": "stream",
     "text": [
      "12\n",
      "11\n",
      "23\n"
     ]
    }
   ],
   "source": [
    "# initialising datetime object\n",
    "obj = datetime.datetime(2001, 12, 9, 12, 11, 23)\n",
    " \n",
    "# Hours\n",
    "print(obj.hour)\n",
    " \n",
    "# Minutes\n",
    "print(obj.minute)\n",
    " \n",
    "# Seconds\n",
    "print(obj.second)"
   ]
  },
  {
   "cell_type": "code",
   "execution_count": 3,
   "id": "b368da75-cd7d-4c16-b3e5-77ead7e181a0",
   "metadata": {},
   "outputs": [
    {
     "name": "stdout",
     "output_type": "stream",
     "text": [
      "2002-02-13 02:20:25\n"
     ]
    }
   ],
   "source": [
    "# defining the objects\n",
    "obj = datetime.datetime(2001, 11, 15, 1, 20, 25)\n",
    "# defining a timedelta\n",
    "diff = datetime.timedelta(days=90, hours=1)\n",
    "# getting a datetime object\n",
    "# that is 90 days and 1 hour ahead\n",
    "new_obj = obj+diff\n",
    " \n",
    "# Our final answer\n",
    "print(new_obj)"
   ]
  },
  {
   "cell_type": "code",
   "execution_count": 4,
   "id": "f2259f07-3992-4ad2-88d0-bdc86aa26440",
   "metadata": {},
   "outputs": [
    {
     "name": "stdout",
     "output_type": "stream",
     "text": [
      "2023-07-27 14:09:07.832087\n"
     ]
    }
   ],
   "source": [
    "print(datetime.datetime.now())"
   ]
  },
  {
   "cell_type": "code",
   "execution_count": 5,
   "id": "e90398bc-3446-436b-aee1-93a6fb9d9145",
   "metadata": {},
   "outputs": [
    {
     "name": "stdout",
     "output_type": "stream",
     "text": [
      "-165 days, 0:49:47\n",
      "164 days, 23:10:13\n",
      "<class 'datetime.timedelta'>\n"
     ]
    }
   ],
   "source": [
    " \n",
    "# defining the objects\n",
    "obj1 = datetime.datetime(2001, 11, 15, 1, 20, 25)\n",
    "obj2 = datetime.datetime(2001, 6, 3, 2, 10, 12)\n",
    "\n",
    "# printing the differences\n",
    "print(obj2-obj1)\n",
    "print(obj1-obj2)\n",
    " \n",
    "# Checking the object type of the\n",
    "# difference returned\n",
    "print(type(obj1-obj2))"
   ]
  },
  {
   "cell_type": "markdown",
   "id": "5d3f2828-d562-400b-9bd0-f3729f111c06",
   "metadata": {},
   "source": [
    "### my try "
   ]
  },
  {
   "cell_type": "code",
   "execution_count": 6,
   "id": "04aabaa8-7e0b-4176-a638-b539689af8f8",
   "metadata": {},
   "outputs": [],
   "source": [
    "now = datetime.date.today()\n",
    "\n",
    "dateA = datetime.date(2023, 7, 5)\n",
    "dateB = datetime.date(2023, 7, 25)\n",
    "dateC = datetime.date(2023, 5, 15)"
   ]
  },
  {
   "cell_type": "code",
   "execution_count": 7,
   "id": "155c1260-7360-49e8-b6e0-8118a6bae0c0",
   "metadata": {},
   "outputs": [],
   "source": [
    "def compare_dates(dateA, dateB, counterType):\n",
    "    \"\"\"Compare dates taking into account counterType and return True if it should be tested. \n",
    "    \n",
    "    Countertypes are 0 in the word was never tested, 1 that should be tested after 2 weeks again and 2 after 1 month.\n",
    "    3 if word is already learnd... may be retested after 2 months or else (to be implemented).\n",
    "    \n",
    "    - dateA\n",
    "    - dateB\n",
    "    - counterType \n",
    "    \"\"\"\n",
    "    dt = now - dateB\n",
    "    ddays = dt.days\n",
    "    if ddays >= 1 and counterType==0:\n",
    "        # to be tested\n",
    "        return True\n",
    "    elif ddays >= 14 and counterType<=1:\n",
    "        # to be tested\n",
    "        return True\n",
    "    elif ddays >= 30 and counterType<=2:\n",
    "        # to be tested\n",
    "        return True\n",
    "    elif ddays >= 60 and counterType<=3:\n",
    "        # to be tested\n",
    "        return True\n",
    "    else:\n",
    "        return False"
   ]
  },
  {
   "cell_type": "code",
   "execution_count": 8,
   "id": "0dc668f5-2d08-450c-9971-d6735dac41fe",
   "metadata": {},
   "outputs": [
    {
     "name": "stdout",
     "output_type": "stream",
     "text": [
      "-22 days, 0:00:00\n",
      "-2 days, 0:00:00\n",
      "-73 days, 0:00:00\n"
     ]
    }
   ],
   "source": [
    "print(dateA - now)\n",
    "print(dateB - now)\n",
    "print(dateC - now)"
   ]
  },
  {
   "cell_type": "code",
   "execution_count": 9,
   "id": "db4e7eca-69cd-4d7f-b876-e89289385aad",
   "metadata": {},
   "outputs": [
    {
     "data": {
      "text/plain": [
       "2"
      ]
     },
     "execution_count": 9,
     "metadata": {},
     "output_type": "execute_result"
    }
   ],
   "source": [
    "# 1 day difference\n",
    "\n",
    "d1 = now - dateB\n",
    "\n",
    "d1.days"
   ]
  },
  {
   "cell_type": "code",
   "execution_count": 10,
   "id": "585b0158-4b48-4a4b-b4ca-95532f56a042",
   "metadata": {},
   "outputs": [
    {
     "data": {
      "text/plain": [
       "22"
      ]
     },
     "execution_count": 10,
     "metadata": {},
     "output_type": "execute_result"
    }
   ],
   "source": [
    "# 1 week difference\n",
    "\n",
    "d2 = now - dateA\n",
    "\n",
    "d2.days"
   ]
  },
  {
   "cell_type": "code",
   "execution_count": 11,
   "id": "6533b71f-1c74-45ce-afc4-ee0ee7eb1c2e",
   "metadata": {},
   "outputs": [
    {
     "data": {
      "text/plain": [
       "73"
      ]
     },
     "execution_count": 11,
     "metadata": {},
     "output_type": "execute_result"
    }
   ],
   "source": [
    "# 1m month difference\n",
    "\n",
    "d3 = now - dateC\n",
    "\n",
    "d3.days"
   ]
  },
  {
   "cell_type": "code",
   "execution_count": 18,
   "id": "fdb83dd9-f95f-406b-a830-abe73f0f4be8",
   "metadata": {},
   "outputs": [
    {
     "data": {
      "text/plain": [
       "False"
      ]
     },
     "execution_count": 18,
     "metadata": {},
     "output_type": "execute_result"
    }
   ],
   "source": [
    "compare_dates(now,dateB,2)"
   ]
  },
  {
   "cell_type": "code",
   "execution_count": 2,
   "id": "27fcbebd-1ee1-4841-aac5-d89d0519b06a",
   "metadata": {},
   "outputs": [],
   "source": [
    "# make filename with date\n",
    "now = datetime.date.today()\n"
   ]
  },
  {
   "cell_type": "code",
   "execution_count": 11,
   "id": "4fba17ca-f3c4-4e14-aaeb-7bebda318447",
   "metadata": {},
   "outputs": [],
   "source": [
    "fn = f\"VocabUnits{now}\""
   ]
  },
  {
   "cell_type": "code",
   "execution_count": 10,
   "id": "91a16a4f-a563-4b41-8149-f069c7e69203",
   "metadata": {},
   "outputs": [
    {
     "data": {
      "text/plain": [
       "'VocabUnitsProject2023-08-02'"
      ]
     },
     "execution_count": 10,
     "metadata": {},
     "output_type": "execute_result"
    }
   ],
   "source": [
    "fn\n"
   ]
  },
  {
   "cell_type": "code",
   "execution_count": null,
   "id": "30be532d-2a58-451a-9cbe-0e71424b9d5f",
   "metadata": {},
   "outputs": [],
   "source": []
  },
  {
   "cell_type": "code",
   "execution_count": null,
   "id": "263a9ba5-06c8-4c67-a295-1563dcf85597",
   "metadata": {},
   "outputs": [],
   "source": []
  }
 ],
 "metadata": {
  "kernelspec": {
   "display_name": "xfel (202301; Python 3.9)",
   "language": "python",
   "name": "xfel-202301"
  },
  "language_info": {
   "codemirror_mode": {
    "name": "ipython",
    "version": 3
   },
   "file_extension": ".py",
   "mimetype": "text/x-python",
   "name": "python",
   "nbconvert_exporter": "python",
   "pygments_lexer": "ipython3",
   "version": "3.9.16"
  }
 },
 "nbformat": 4,
 "nbformat_minor": 5
}
