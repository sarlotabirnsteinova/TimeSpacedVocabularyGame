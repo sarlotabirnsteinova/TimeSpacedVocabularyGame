{
 "cells": [
  {
   "cell_type": "code",
   "execution_count": 3,
   "id": "79587cb0-2015-4579-a208-38c1d9399b96",
   "metadata": {},
   "outputs": [
    {
     "ename": "NameError",
     "evalue": "name '__try_classes__' is not defined",
     "output_type": "error",
     "traceback": [
      "\u001b[0;31m---------------------------------------------------------------------------\u001b[0m",
      "\u001b[0;31mNameError\u001b[0m                                 Traceback (most recent call last)",
      "Cell \u001b[0;32mIn[3], line 5\u001b[0m\n\u001b[1;32m      3\u001b[0m \u001b[39mimport\u001b[39;00m \u001b[39mos\u001b[39;00m\u001b[39m,\u001b[39m \u001b[39msys\u001b[39;00m \n\u001b[1;32m      4\u001b[0m \u001b[39m# Get the path to the data directory relative to this module\u001b[39;00m\n\u001b[0;32m----> 5\u001b[0m data_path \u001b[39m=\u001b[39m os\u001b[39m.\u001b[39mpath\u001b[39m.\u001b[39mjoin(os\u001b[39m.\u001b[39mpath\u001b[39m.\u001b[39mdirname(__try_classes__), \u001b[39m'\u001b[39m\u001b[39m..\u001b[39m\u001b[39m'\u001b[39m)\n\u001b[1;32m      6\u001b[0m \u001b[39m# Add the data directory to sys.path\u001b[39;00m\n\u001b[1;32m      7\u001b[0m sys\u001b[39m.\u001b[39mpath\u001b[39m.\u001b[39mappend(data_path)\n",
      "\u001b[0;31mNameError\u001b[0m: name '__try_classes__' is not defined"
     ]
    }
   ],
   "source": [
    "# from vocabUnit import VocabUnit\n",
    "import datetime\n",
    "from vocabTest import VocabTest\n"
   ]
  },
  {
   "cell_type": "code",
   "execution_count": 18,
   "id": "a1e46668-9cfe-4157-937c-7c46cde9bbe7",
   "metadata": {},
   "outputs": [],
   "source": [
    "# test = VocabTest()"
   ]
  },
  {
   "cell_type": "code",
   "execution_count": 19,
   "id": "0854f4eb-035d-4749-8fa7-e50f362033fa",
   "metadata": {},
   "outputs": [],
   "source": [
    "# test.add_VocabUnit(\"dom\",\"das Haus\")"
   ]
  },
  {
   "cell_type": "code",
   "execution_count": 20,
   "id": "29ec5a09-443d-4b1a-bc04-88788da6ebb1",
   "metadata": {},
   "outputs": [],
   "source": [
    "# test.add_VocabUnit(\"sekunda\",\"die Sekunde\")"
   ]
  },
  {
   "cell_type": "code",
   "execution_count": 21,
   "id": "914d2f34-d146-422a-aff1-4aac7c3f46a8",
   "metadata": {},
   "outputs": [],
   "source": [
    "# test.add_VocabUnit(\"moct\",\"konnen\")"
   ]
  },
  {
   "cell_type": "code",
   "execution_count": 22,
   "id": "1d2f1144-e57a-4729-b781-9f320fd2ff07",
   "metadata": {},
   "outputs": [],
   "source": [
    "# test.add_VocabUnit(\"daleko\",\"weit\",\"Zena sa pozera na nieco, co je daleko.\",\"Die Frau guckt auf etwas, das weit ist.\")"
   ]
  },
  {
   "cell_type": "code",
   "execution_count": 23,
   "id": "3ab6c267-e9ce-4c1e-ba4b-b28561d76b01",
   "metadata": {},
   "outputs": [],
   "source": [
    "# test.add_VocabUnit(\"blizko\",\"nahe\")"
   ]
  },
  {
   "cell_type": "code",
   "execution_count": 24,
   "id": "ffad8885-6211-40ac-a8c5-b88939903fb5",
   "metadata": {},
   "outputs": [],
   "source": [
    "# test.add_VocabUnit(\"ruka\",\"der Arm\")"
   ]
  },
  {
   "cell_type": "code",
   "execution_count": 25,
   "id": "243eaea2-dc6c-4fe8-b138-6994cddbe207",
   "metadata": {},
   "outputs": [],
   "source": [
    "# test.add_VocabUnit(\"telo\",\"der Korper\")"
   ]
  },
  {
   "cell_type": "code",
   "execution_count": 26,
   "id": "7ea2c7ee-5206-45a4-af80-bfcefba16a6b",
   "metadata": {},
   "outputs": [],
   "source": [
    "# test.add_VocabUnit(\"chrbat\",\"der Rucken\",\"Boli ma chrbat.\",\"Mein Rucken tut weh.\")"
   ]
  },
  {
   "cell_type": "code",
   "execution_count": 27,
   "id": "d77f6b8a-9157-4b3d-a349-f3613c717be8",
   "metadata": {},
   "outputs": [],
   "source": [
    "# test.add_VocabUnit(\"noha\",\"das Bein\")"
   ]
  },
  {
   "cell_type": "code",
   "execution_count": 28,
   "id": "19b47b1c-e18e-452e-a969-dadcf97a25e7",
   "metadata": {},
   "outputs": [],
   "source": [
    "# test.save_VocabUnitsList()"
   ]
  },
  {
   "cell_type": "markdown",
   "id": "189659a1-3be7-45e1-9203-06b4eecf874d",
   "metadata": {},
   "source": [
    "## Load new test "
   ]
  },
  {
   "cell_type": "code",
   "execution_count": 29,
   "id": "a3174cea-509a-44f3-8e83-ddfbc1a27324",
   "metadata": {},
   "outputs": [],
   "source": [
    "testA = VocabTest('VocabUnits2023-08-02')"
   ]
  },
  {
   "cell_type": "code",
   "execution_count": 30,
   "id": "5ceddca9-edbd-4a74-82c1-8febd29cf82f",
   "metadata": {},
   "outputs": [
    {
     "data": {
      "text/plain": [
       "'das Haus'"
      ]
     },
     "execution_count": 30,
     "metadata": {},
     "output_type": "execute_result"
    }
   ],
   "source": [
    "testA.vocabUnitsList[0].target"
   ]
  },
  {
   "cell_type": "code",
   "execution_count": 31,
   "id": "00ff7611-379d-4a11-9287-28aece5e8d4a",
   "metadata": {},
   "outputs": [
    {
     "name": "stdout",
     "output_type": "stream",
     "text": [
      "[]\n",
      "[0, 1, 2, 3, 4, 5, 6, 7, 8]\n"
     ]
    }
   ],
   "source": [
    "# test indexes for testing \n",
    "print(testA.vocabTest_idx)\n",
    "testA.find_test_idxs()\n",
    "print(testA.vocabTest_idx)"
   ]
  },
  {
   "cell_type": "code",
   "execution_count": 32,
   "id": "2ed7800d-7e40-4558-abbd-ffc9cb3e9187",
   "metadata": {},
   "outputs": [
    {
     "name": "stdout",
     "output_type": "stream",
     "text": [
      "[0, 1, 2, 3, 4, 5, 6, 7, 8]\n",
      "[6, 0, 2, 5, 1, 4, 3, 7, 8]\n"
     ]
    }
   ],
   "source": [
    "# test randomization of indexes for testing \n",
    "print(testA.vocabTest_idx)\n",
    "testA.randomize_idx()\n",
    "print(testA.vocabTest_idx)"
   ]
  },
  {
   "cell_type": "code",
   "execution_count": 45,
   "id": "c2084291-1103-4ab8-a23b-234f0ec6f61e",
   "metadata": {},
   "outputs": [
    {
     "name": "stdout",
     "output_type": "stream",
     "text": [
      "Kolko sa uz testovalo:  4  test idx:  1\n",
      "counter slovicka:  0  check:  sekunda\n",
      "Preloztit:  sekunda\n"
     ]
    }
   ],
   "source": [
    "# test testing :D\n",
    "test_i, test_idx = testA.tested_count, testA.vocabTest_idx[testA.tested_count]\n",
    "print('Kolko sa uz testovalo: ', test_i,' test idx: ', test_idx)\n",
    "print('counter slovicka: ', testA.vocabUnitsList[test_idx].counter, ' check: ',testA.vocabUnitsList[test_idx].native)\n",
    "t0 = testA.give_VocabUnit()\n",
    "\n",
    "print('Preloztit: ',t0.native)"
   ]
  },
  {
   "cell_type": "code",
   "execution_count": 46,
   "id": "1f8ea7cd-bb4d-4f28-a2ef-3a6a3ded2c09",
   "metadata": {},
   "outputs": [
    {
     "name": "stdout",
     "output_type": "stream",
     "text": [
      "True\n",
      "Kolko sa uz testovalo  5\n",
      "counter slovicka:  1\n"
     ]
    }
   ],
   "source": [
    "# submitt answer\n",
    "print(testA.process_test('die Sekunde'))\n",
    "print('Kolko sa uz testovalo ', testA.tested_count)\n",
    "print(\"counter slovicka: \", testA.vocabUnitsList[test_idx].counter)\n"
   ]
  },
  {
   "cell_type": "code",
   "execution_count": 38,
   "id": "84aac3ae-db9f-449a-8cca-0c1319adaea3",
   "metadata": {},
   "outputs": [],
   "source": [
    "# testA.save_VocabUnitsList()"
   ]
  },
  {
   "cell_type": "code",
   "execution_count": null,
   "id": "03a4da23-169a-4fbf-9768-0944e6693052",
   "metadata": {},
   "outputs": [],
   "source": []
  }
 ],
 "metadata": {
  "kernelspec": {
   "display_name": "venv",
   "language": "python",
   "name": "python3"
  },
  "language_info": {
   "codemirror_mode": {
    "name": "ipython",
    "version": 3
   },
   "file_extension": ".py",
   "mimetype": "text/x-python",
   "name": "python",
   "nbconvert_exporter": "python",
   "pygments_lexer": "ipython3",
   "version": "3.10.12"
  }
 },
 "nbformat": 4,
 "nbformat_minor": 5
}
