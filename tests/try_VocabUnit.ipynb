{
 "cells": [
  {
   "cell_type": "code",
   "execution_count": 4,
   "id": "43c1db78-d5fd-41a3-9b7a-50ce50973b2a",
   "metadata": {},
   "outputs": [],
   "source": [
    "from vocabUnit import VocabUnit\n",
    "import datetime"
   ]
  },
  {
   "cell_type": "code",
   "execution_count": 5,
   "id": "ee826f1d-a25a-4e99-8447-525502cf6bad",
   "metadata": {},
   "outputs": [],
   "source": [
    "vu0 = VocabUnit('ahoj','Hallo',datetime.date.today())\n",
    "vu1 = VocabUnit('Ahoj','Hallo',datetime.date.today())"
   ]
  },
  {
   "cell_type": "code",
   "execution_count": 8,
   "id": "4ab0e8b5-9e05-4070-ac41-2190623ccc05",
   "metadata": {},
   "outputs": [
    {
     "name": "stdout",
     "output_type": "stream",
     "text": [
      "<vocabUnit.VocabUnit object at 0x2b4d5a666b50>\n"
     ]
    }
   ],
   "source": [
    "print(vu0)"
   ]
  },
  {
   "cell_type": "code",
   "execution_count": 9,
   "id": "130f22eb-e622-4c8a-b251-00134a508e1c",
   "metadata": {},
   "outputs": [
    {
     "data": {
      "text/plain": [
       "datetime.date(2023, 7, 27)"
      ]
     },
     "execution_count": 9,
     "metadata": {},
     "output_type": "execute_result"
    }
   ],
   "source": [
    "vu0.timeInfo"
   ]
  },
  {
   "cell_type": "code",
   "execution_count": 12,
   "id": "36e6da29-b36b-4811-ad6f-9e97927efc9a",
   "metadata": {},
   "outputs": [
    {
     "data": {
      "text/plain": [
       "datetime.date(2023, 5, 4)"
      ]
     },
     "execution_count": 12,
     "metadata": {},
     "output_type": "execute_result"
    }
   ],
   "source": [
    "vu0.timeInfo = datetime.date(2023,5,4)\n",
    "vu0.timeInfo"
   ]
  },
  {
   "cell_type": "code",
   "execution_count": 7,
   "id": "ab62b750-3a3d-43e6-9d61-b07bbf2e42f3",
   "metadata": {},
   "outputs": [
    {
     "name": "stdout",
     "output_type": "stream",
     "text": [
      "0 <vocabUnit.VocabUnit object at 0x2b355bf16640>\n",
      "1 <vocabUnit.VocabUnit object at 0x2b355bf16fd0>\n"
     ]
    }
   ],
   "source": [
    "vus = [vu0,vu1]\n",
    "\n",
    "for unit,idx in enumerate(vus):\n",
    "    print(unit,idx)"
   ]
  },
  {
   "cell_type": "code",
   "execution_count": null,
   "id": "426fdc26-2386-4d75-90d1-2cb40839295d",
   "metadata": {},
   "outputs": [],
   "source": []
  }
 ],
 "metadata": {
  "kernelspec": {
   "display_name": "xfel (202301; Python 3.9)",
   "language": "python",
   "name": "xfel-202301"
  },
  "language_info": {
   "codemirror_mode": {
    "name": "ipython",
    "version": 3
   },
   "file_extension": ".py",
   "mimetype": "text/x-python",
   "name": "python",
   "nbconvert_exporter": "python",
   "pygments_lexer": "ipython3",
   "version": "3.9.16"
  }
 },
 "nbformat": 4,
 "nbformat_minor": 5
}
