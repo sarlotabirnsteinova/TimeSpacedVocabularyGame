{
 "cells": [
  {
   "cell_type": "code",
   "execution_count": null,
   "id": "620ea1db-c006-49f7-9893-37d96be2d9dc",
   "metadata": {},
   "outputs": [],
   "source": []
  },
  {
   "cell_type": "code",
   "execution_count": 1,
   "id": "589f77a5-867e-45b7-abd2-1ecb9f86f34f",
   "metadata": {},
   "outputs": [],
   "source": [
    "a1 = 'Word to be Translated.'\n",
    "a0 = 'translated'\n",
    "\n",
    "b1 = 'Translated'\n",
    "b0 = 'translate'\n",
    "b2 = 'trenslate'\n"
   ]
  },
  {
   "cell_type": "code",
   "execution_count": 2,
   "id": "a943961d-e4d9-4667-b821-6c016fdc6a8e",
   "metadata": {},
   "outputs": [
    {
     "data": {
      "text/plain": [
       "False"
      ]
     },
     "execution_count": 2,
     "metadata": {},
     "output_type": "execute_result"
    }
   ],
   "source": [
    "b0 in a1"
   ]
  },
  {
   "cell_type": "code",
   "execution_count": 3,
   "id": "fad2c04b-0d4a-4b7a-8011-55810cb9af06",
   "metadata": {},
   "outputs": [
    {
     "data": {
      "text/plain": [
       "False"
      ]
     },
     "execution_count": 3,
     "metadata": {},
     "output_type": "execute_result"
    }
   ],
   "source": [
    "b0 in b1"
   ]
  },
  {
   "cell_type": "code",
   "execution_count": 4,
   "id": "cad7a99f-7d8e-4dc2-9ae5-802104dd3fc3",
   "metadata": {},
   "outputs": [
    {
     "data": {
      "text/plain": [
       "True"
      ]
     },
     "execution_count": 4,
     "metadata": {},
     "output_type": "execute_result"
    }
   ],
   "source": [
    "b1 in a1"
   ]
  },
  {
   "cell_type": "code",
   "execution_count": 5,
   "id": "43c5fd93-6a4a-41e8-89c9-8aac7c696030",
   "metadata": {},
   "outputs": [
    {
     "data": {
      "text/plain": [
       "False"
      ]
     },
     "execution_count": 5,
     "metadata": {},
     "output_type": "execute_result"
    }
   ],
   "source": [
    "b2 in a1"
   ]
  },
  {
   "cell_type": "code",
   "execution_count": 6,
   "id": "da1098f5-48a4-4a6a-9e98-8d2cd7625f21",
   "metadata": {},
   "outputs": [
    {
     "name": "stdout",
     "output_type": "stream",
     "text": [
      "Word to be Translated\n"
     ]
    }
   ],
   "source": [
    "if a1[-1] == \".\" or a1[-1]==\"!\" or a1[-1]==\"?\":\n",
    "    a1 = a1[:-1]\n",
    "print(a1)"
   ]
  },
  {
   "cell_type": "code",
   "execution_count": 7,
   "id": "b58b7962-283b-417d-b919-a9d2113e8323",
   "metadata": {},
   "outputs": [
    {
     "name": "stdout",
     "output_type": "stream",
     "text": [
      "['Word', 'to', 'be', 'Translated']\n"
     ]
    }
   ],
   "source": [
    "# split sentence into words \n",
    "\n",
    "wsplit = a1.split()\n",
    "print(wsplit)"
   ]
  },
  {
   "cell_type": "code",
   "execution_count": 8,
   "id": "f8d1538d-0562-46ed-bd9c-fcc8ffedd0c5",
   "metadata": {},
   "outputs": [
    {
     "data": {
      "text/plain": [
       "True"
      ]
     },
     "execution_count": 8,
     "metadata": {},
     "output_type": "execute_result"
    }
   ],
   "source": [
    "b1 in wsplit\n",
    "len(wsplit)==4"
   ]
  },
  {
   "cell_type": "code",
   "execution_count": 13,
   "id": "f4558b18-13dc-4f9a-bf9d-1a1d9a1165a5",
   "metadata": {},
   "outputs": [
    {
     "name": "stdout",
     "output_type": "stream",
     "text": [
      "meh\n"
     ]
    }
   ],
   "source": [
    "if b1[0].isupper():\n",
    "    print('meh')"
   ]
  },
  {
   "cell_type": "code",
   "execution_count": null,
   "id": "4b734f8c-f6aa-4ef1-8bab-90d6644318e1",
   "metadata": {},
   "outputs": [],
   "source": []
  },
  {
   "cell_type": "markdown",
   "id": "8439b5fc-4e79-4c70-b7b2-255c7ddd010a",
   "metadata": {},
   "source": [
    "### Noun "
   ]
  },
  {
   "cell_type": "code",
   "execution_count": 29,
   "id": "f5fdfd62-58eb-4ac1-b1a6-9cd007f18a8e",
   "metadata": {},
   "outputs": [],
   "source": [
    "a1 = 'Word to be das Etwas.'\n",
    "a0 = 'das Etwas'\n",
    "\n",
    "b1 = 'Etwas'\n",
    "b0 = 'das Etwas'\n",
    "b2 = 'der Etwas'\n",
    "b3 = 'be das Etwas'"
   ]
  },
  {
   "cell_type": "code",
   "execution_count": 11,
   "id": "64fc2826-6b51-4320-b85d-6e66f062a5e3",
   "metadata": {},
   "outputs": [
    {
     "data": {
      "text/plain": [
       "True"
      ]
     },
     "execution_count": 11,
     "metadata": {},
     "output_type": "execute_result"
    }
   ],
   "source": [
    "b0 in a0"
   ]
  },
  {
   "cell_type": "code",
   "execution_count": 30,
   "id": "c8a293d4-3b70-4efc-8f95-d8ef2c788963",
   "metadata": {},
   "outputs": [
    {
     "data": {
      "text/plain": [
       "(True, 0)"
      ]
     },
     "execution_count": 30,
     "metadata": {},
     "output_type": "execute_result"
    }
   ],
   "source": [
    "compare_(b3,a0,a1)"
   ]
  },
  {
   "cell_type": "code",
   "execution_count": null,
   "id": "1e444cc9-e660-477f-93df-05b1c35a3d60",
   "metadata": {},
   "outputs": [],
   "source": []
  },
  {
   "cell_type": "code",
   "execution_count": 17,
   "id": "e7e35040-3ce6-4366-a8b3-aec981ac8022",
   "metadata": {},
   "outputs": [
    {
     "data": {
      "text/plain": [
       "False"
      ]
     },
     "execution_count": 17,
     "metadata": {},
     "output_type": "execute_result"
    }
   ],
   "source": [
    "b2 in a1"
   ]
  },
  {
   "cell_type": "code",
   "execution_count": 18,
   "id": "43650d54-4b55-438a-bc80-71a5502e99a6",
   "metadata": {},
   "outputs": [
    {
     "data": {
      "text/plain": [
       "False"
      ]
     },
     "execution_count": 18,
     "metadata": {},
     "output_type": "execute_result"
    }
   ],
   "source": [
    "b2 in b0"
   ]
  },
  {
   "cell_type": "markdown",
   "id": "9ebae709-0133-4245-a561-37818d365374",
   "metadata": {},
   "source": [
    "## "
   ]
  },
  {
   "cell_type": "code",
   "execution_count": 28,
   "id": "da5dd156-38fc-4903-a4dd-a3b8e0a656a9",
   "metadata": {},
   "outputs": [],
   "source": [
    "def compare_(inputString,target, target_long=None):\n",
    "    \"\"\"Should return if correct or incorrect\n",
    "    - return boolean and additional info idicating counterchange (counter info: None --> set to 0 or 0, 1 stay on level or up level)\n",
    "    \n",
    "    target_long == None --> inputString == target   0 ..all good upp the counter\n",
    "                        --> if noun split and second part in uppercase --> second parts == --> 1 (partialy good stay in level)\n",
    "    \n",
    "    - make function check if noun, return bolean and Noun w/o der/die/das\n",
    "    \n",
    "    target_long != None --> inputString == target_long --> if yes --> 0 all good and counter + 1\n",
    "                        --> inputString in target_long --> if yes --> 1 all good and counter\n",
    "                        --> inputString == target --> if yes --> 1 all good and counter\n",
    "                        --> inputString noun and second part in target --> if yes --> 1 all good and counter\n",
    "    \"\"\"\n",
    "    d_counter = None #(reset to zero if not guessed right)\n",
    "    translation_status = False #(if translation was correct or not)\n",
    "    \n",
    "    noun_input, inputString_noun = is_noun(inputString)\n",
    "    # print('was noun: ',noun_input,inputString_noun )\n",
    "    \n",
    "    if target_long is None:\n",
    "        if inputString == target:\n",
    "            return True, 1\n",
    "        elif noun_input and inputString_noun in target:\n",
    "            return True, 0\n",
    "        else:\n",
    "            return False, None\n",
    "    else:\n",
    "        if inputString == target_long:\n",
    "            return True, 1\n",
    "        elif inputString in target_long:\n",
    "            return True, 0\n",
    "        elif inputString == target_long:\n",
    "            return True, 1 \n",
    "        elif noun_input and inputString_noun in target:\n",
    "            return True, 0\n",
    "        else:\n",
    "            return False, 0"
   ]
  },
  {
   "cell_type": "code",
   "execution_count": 26,
   "id": "527e581d-43a8-433c-a3ab-1657da06ff7b",
   "metadata": {},
   "outputs": [],
   "source": [
    "def is_noun(string):\n",
    "    parts = string.split()\n",
    "    if len(parts) == 2 and parts[1][0].isupper():\n",
    "        return True, parts[1]\n",
    "    else:\n",
    "        return False, None\n",
    "    "
   ]
  },
  {
   "cell_type": "code",
   "execution_count": null,
   "id": "3b4169ac-5f2c-47ef-8643-26858ce89b62",
   "metadata": {},
   "outputs": [],
   "source": []
  },
  {
   "cell_type": "code",
   "execution_count": null,
   "id": "ea0a12cd-5552-478b-b1f3-ac33b501933b",
   "metadata": {},
   "outputs": [],
   "source": []
  }
 ],
 "metadata": {
  "kernelspec": {
   "display_name": "xfel (202301; Python 3.9)",
   "language": "python",
   "name": "xfel-202301"
  },
  "language_info": {
   "codemirror_mode": {
    "name": "ipython",
    "version": 3
   },
   "file_extension": ".py",
   "mimetype": "text/x-python",
   "name": "python",
   "nbconvert_exporter": "python",
   "pygments_lexer": "ipython3",
   "version": "3.9.16"
  }
 },
 "nbformat": 4,
 "nbformat_minor": 5
}
