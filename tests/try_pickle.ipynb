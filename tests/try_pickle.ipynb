{
 "cells": [
  {
   "cell_type": "code",
   "execution_count": 2,
   "id": "afa25144-e99e-45bf-906c-579b7b244b86",
   "metadata": {},
   "outputs": [],
   "source": [
    "from vocabUnit import VocabUnit\n",
    "import datetime\n",
    "import pickle"
   ]
  },
  {
   "cell_type": "code",
   "execution_count": 10,
   "id": "52951fc3-c2a1-49e7-95a2-8c746f08635c",
   "metadata": {},
   "outputs": [],
   "source": [
    "vu0 = VocabUnit('ahoj','Hallo',datetime.date.today())\n",
    "vu1 = VocabUnit('cau','Cau',datetime.date(2023,1,4))"
   ]
  },
  {
   "cell_type": "code",
   "execution_count": 20,
   "id": "4130aefd-1aea-4132-a7d6-a7afd2fd826f",
   "metadata": {},
   "outputs": [
    {
     "data": {
      "text/plain": [
       "[<vocabUnit.VocabUnit at 0x2ab9327259d0>,\n",
       " <vocabUnit.VocabUnit at 0x2ab9323d9d60>]"
      ]
     },
     "execution_count": 20,
     "metadata": {},
     "output_type": "execute_result"
    }
   ],
   "source": [
    "l = [vu0]\n",
    "l.append(vu1)\n",
    "l"
   ]
  },
  {
   "cell_type": "code",
   "execution_count": 4,
   "id": "1d96cc8f-c63a-433c-bc78-8f7961709477",
   "metadata": {},
   "outputs": [],
   "source": [
    "fn_pickle = 'try_pickleFile'"
   ]
  },
  {
   "cell_type": "markdown",
   "id": "a5bbc3ec-a1bf-4376-8e7e-360185e5d6d4",
   "metadata": {},
   "source": [
    "### write"
   ]
  },
  {
   "cell_type": "code",
   "execution_count": 14,
   "id": "13686537-8520-42f9-89c4-412b5fbed7da",
   "metadata": {},
   "outputs": [],
   "source": [
    "# Step 2\n",
    "with open(fn_pickle, 'wb') as config_file:\n",
    "    # Step 3\n",
    "    # pickle.dump(vu0, config_file)\n",
    "    pickle.dump([vu0,vu1], config_file)\n",
    "    # pickle.dump(vu1, config_file)"
   ]
  },
  {
   "cell_type": "code",
   "execution_count": null,
   "id": "c107d840-37f6-4f5f-b164-6bc41410b982",
   "metadata": {},
   "outputs": [],
   "source": []
  },
  {
   "cell_type": "markdown",
   "id": "132d63cb-6432-45c3-979c-e387467610d9",
   "metadata": {},
   "source": [
    "### read"
   ]
  },
  {
   "cell_type": "code",
   "execution_count": 15,
   "id": "6db4a957-39ca-4392-ac47-b3d0775954a3",
   "metadata": {},
   "outputs": [
    {
     "name": "stdout",
     "output_type": "stream",
     "text": [
      "<vocabUnit.VocabUnit object at 0x2ab93265faf0>\n"
     ]
    }
   ],
   "source": [
    "# Step 2\n",
    "with open(fn_pickle, 'rb') as config_file:\n",
    " \n",
    "    # Step 3\n",
    "    vu0_p = pickle.load(config_file)\n",
    "    # After config_dictionary is read from file\n",
    "    print(config_dictionary)\n"
   ]
  },
  {
   "cell_type": "code",
   "execution_count": 18,
   "id": "ab55e708-ddd1-4754-8973-11ab60a8a4c6",
   "metadata": {},
   "outputs": [
    {
     "data": {
      "text/plain": [
       "datetime.date(2023, 1, 4)"
      ]
     },
     "execution_count": 18,
     "metadata": {},
     "output_type": "execute_result"
    }
   ],
   "source": [
    "vu0_p[1].timeInfo"
   ]
  },
  {
   "cell_type": "code",
   "execution_count": null,
   "id": "a3646495-8851-4718-94eb-d0839d4d1507",
   "metadata": {},
   "outputs": [],
   "source": []
  }
 ],
 "metadata": {
  "kernelspec": {
   "display_name": "xfel (202301; Python 3.9)",
   "language": "python",
   "name": "xfel-202301"
  },
  "language_info": {
   "codemirror_mode": {
    "name": "ipython",
    "version": 3
   },
   "file_extension": ".py",
   "mimetype": "text/x-python",
   "name": "python",
   "nbconvert_exporter": "python",
   "pygments_lexer": "ipython3",
   "version": "3.9.16"
  }
 },
 "nbformat": 4,
 "nbformat_minor": 5
}
